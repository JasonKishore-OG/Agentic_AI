{
  "nbformat": 4,
  "nbformat_minor": 0,
  "metadata": {
    "colab": {
      "provenance": []
    },
    "kernelspec": {
      "name": "python3",
      "display_name": "Python 3"
    },
    "language_info": {
      "name": "python"
    }
  },
  "cells": [
    {
      "cell_type": "code",
      "execution_count": 21,
      "metadata": {
        "id": "wAi0_o3z5UYZ"
      },
      "outputs": [],
      "source": [
        "from openai import OpenAI\n",
        "from IPython.display import display,Markdown"
      ]
    },
    {
      "cell_type": "code",
      "source": [
        "openai_api_key = \"sk-proj-XXXXXXXXXXXXXXXX\"\n",
        "client = OpenAI(api_key= openai_api_key)"
      ],
      "metadata": {
        "id": "Q4yURlf65aUk"
      },
      "execution_count": 26,
      "outputs": []
    },
    {
      "cell_type": "markdown",
      "source": [
        "# Where is London?"
      ],
      "metadata": {
        "id": "6GtVDUmY7_Je"
      }
    },
    {
      "cell_type": "code",
      "source": [
        "message = [{'role':'user',\n",
        "            'content':'Where is London?'}]"
      ],
      "metadata": {
        "id": "umzWiJMP6cFx"
      },
      "execution_count": 14,
      "outputs": []
    },
    {
      "cell_type": "code",
      "source": [
        "response = client.chat.completions.create(\n",
        "    model = 'gpt-4.1-nano',\n",
        "    messages = message\n",
        ")\n",
        "answer = response.choices[0].message.content\n",
        "display(Markdown(answer))"
      ],
      "metadata": {
        "colab": {
          "base_uri": "https://localhost:8080/",
          "height": 64
        },
        "id": "M1YWyKb96p2G",
        "outputId": "884e8641-f300-4158-c91c-221cef878ea7"
      },
      "execution_count": 27,
      "outputs": [
        {
          "output_type": "display_data",
          "data": {
            "text/plain": [
              "<IPython.core.display.Markdown object>"
            ],
            "text/markdown": "London is the capital city of the United Kingdom, located in England. It is situated along the River Thames in the southeastern part of the country. London is a major global city known for its history, culture, finance, and political significance."
          },
          "metadata": {}
        }
      ]
    },
    {
      "cell_type": "markdown",
      "source": [
        "# Week 1 Day 1 Assignment\n",
        "\n",
        "Exercise\n",
        "Now try this commercial application:\n",
        "- First ask the LLM to pick a business area that might be worth exploring for an Agentic AI opportunity.\n",
        "\n",
        "- Then ask the LLM to present a pain-point in that industry - something challenging that might be ripe for an Agentic solution.\n",
        "\n",
        "- Finally have 3 third LLM call propose the Agentic AI solution.\n",
        "We will cover this at up-coming labs, so don't worry if you're unsure.. just give it a try!\n"
      ],
      "metadata": {
        "id": "oiUo-8eZ8UUG"
      }
    },
    {
      "cell_type": "code",
      "source": [
        "msg01 =  [{'role':'user',\n",
        "            'content':'Pick a business area that might be worth exploring for an Agentic AI opportunity.'}]\n",
        "\n",
        "response = client.chat.completions.create(\n",
        "    model = 'gpt-4.1-nano',\n",
        "    messages = msg01\n",
        ")\n",
        "ans01 = response.choices[0].message.content\n",
        "display(Markdown(ans01))\n"
      ],
      "metadata": {
        "colab": {
          "base_uri": "https://localhost:8080/",
          "height": 122
        },
        "id": "RE2l1_b67OZD",
        "outputId": "59c2cbe7-73ec-4bc4-ae59-665de9af2614"
      },
      "execution_count": 28,
      "outputs": [
        {
          "output_type": "display_data",
          "data": {
            "text/plain": [
              "<IPython.core.display.Markdown object>"
            ],
            "text/markdown": "One promising business area to explore for an Agentic AI opportunity is **personalized healthcare management and patient advocacy**. \n\nThis domain involves developing AI agents capable of proactively managing individual health journeys by coordinating appointments, monitoring medication adherence, providing tailored health recommendations, and advocating for patients' needs within healthcare systems. An Agentic AI in this space could empower patients with real-time decision-making support, streamline communication with healthcare providers, and personalize treatment plans, ultimately enhancing health outcomes and patient satisfaction."
          },
          "metadata": {}
        }
      ]
    },
    {
      "cell_type": "code",
      "source": [
        "msg02 =  [{'role':'user',\n",
        "            'content':f'{ans01},Present a pain-point on this - something challenging that might be ripe for an Agentic solution'}]\n",
        "\n",
        "response = client.chat.completions.create(\n",
        "    model = 'gpt-4.1-nano',\n",
        "    messages = msg02\n",
        ")\n",
        "ans02 = response.choices[0].message.content\n",
        "display(Markdown(ans02))\n"
      ],
      "metadata": {
        "colab": {
          "base_uri": "https://localhost:8080/",
          "height": 156
        },
        "id": "cYm03tJK9gqi",
        "outputId": "46fc4799-d2d3-417e-92e0-1cac6a447088"
      },
      "execution_count": 31,
      "outputs": [
        {
          "output_type": "display_data",
          "data": {
            "text/plain": [
              "<IPython.core.display.Markdown object>"
            ],
            "text/markdown": "A significant pain-point in personalized healthcare management is **the fragmentation and complexity of communication between patients and multiple healthcare providers**, which often leads to gaps in care, medication errors, missed appointments, and delayed responses to urgent health concerns. Patients frequently struggle to coordinate appointments, clarify instructions, and advocate effectively for their needs within complex healthcare systems. \n\nThis challenge creates an opportunity for an Agentic AI to serve as a proactive, centralized health advocate—automatically managing communication, reminding patients of tasks, facilitating coordination among providers, and ensuring timely responses. Addressing this fragmentation with an intelligent agent could dramatically improve care continuity, reduce errors, and empower patients with seamless support—making it a compelling and impactful solution in personalized healthcare."
          },
          "metadata": {}
        }
      ]
    },
    {
      "cell_type": "code",
      "source": [
        "msg03 = [{'role':'user',\n",
        "          'content':f'{ans02},Propose an Agentic AI solution for this '}]\n",
        "\n",
        "response = client.chat.completions.create(\n",
        "    model='gpt-4.1-nano',\n",
        "    messages=msg03\n",
        ")\n",
        "ans03 = response.choices[0].message.content\n",
        "display(Markdown(ans03))"
      ],
      "metadata": {
        "colab": {
          "base_uri": "https://localhost:8080/",
          "height": 1000
        },
        "id": "uHk76xXY-HBT",
        "outputId": "57af0572-0ef8-419a-bbf3-25320b2f7663"
      },
      "execution_count": 33,
      "outputs": [
        {
          "output_type": "display_data",
          "data": {
            "text/plain": [
              "<IPython.core.display.Markdown object>"
            ],
            "text/markdown": "Proposed Agentic AI Solution: **CareSync Assistant**\n\n**Overview:**\nCareSync Assistant is an intelligent, proactive, centralized healthcare advocate designed to streamline communication and coordination among patients and multiple healthcare providers. It leverages natural language understanding, automation, and secure integrations to empower patients, reduce care fragmentation, and enhance overall health management.\n\n---\n\n### Core Features\n\n1. **Centralized Communication Hub**\n   - Acts as a unified interface for messages, appointment scheduling, medication updates, and lab results.\n   - Integrates securely with EHRs (Electronic Health Records), pharmacy systems, and provider portals.\n\n2. **Proactive Reminders & Alerts**\n   - Sends timely notifications for upcoming appointments, medication refills, lab tests, and follow-up actions.\n   - Alerts for urgent issues detected via health data monitoring or provider communications.\n\n3. **Intelligent Task & Medication Management**\n   - Reminds patients to take medications, perform health activities, and submit symptom or health progress reports.\n   - Provides medication instructions and clarifications directly upon request.\n\n4. **Automated Coordination & Follow-Up**\n   - Manages appointment scheduling across multiple providers, preventing overlaps and conflicts.\n   - Facilitates communication among healthcare teams, ensuring all involved providers are updated.\n\n5. **Health Advocacy & Clarification**\n   - Answers patient questions about diagnoses, treatment plans, or procedures using integrated clinical knowledge bases.\n   - Summarizes complex medical information into understandable language.\n\n6. **Emergency & Urgency Handling**\n   - Recognizes urgent health concerns through patient inputs or health data, prompting immediate contact with providers or emergency services.\n   - Ensures timely responses to critical issues.\n\n7. **Secure and Privacy-Compliant**\n   - Utilizes encryption and complies with healthcare regulations (e.g., HIPAA) to protect patient data.\n   \n---\n\n### Implementation Workflow\n\n1. **Onboarding & Integration**\n   - Patients connect their healthcare provider portals, pharmacy systems, and wearable devices.\n   - CareSync assistant performs initial setup, clarifies patient preferences, and establishes communication protocols.\n\n2. **Continuous Monitoring & Management**\n   - Daily monitoring of health data, medication adherence, and communication logs.\n   - Identifies gaps in care or potential issues, prompting appropriate actions.\n\n3. **Communication & Coordination**\n   - Acts as an intermediary: relays messages between patients and providers, assists with documentation, and confirms task completion.\n   - Schedules appointments based on patient and provider availability.\n\n4. **Feedback & Improvement**\n   - Collects patient feedback on care management.\n   - Uses machine learning to personalize communication style and optimize alerts.\n\n---\n\n### Benefits\n\n- Enhances **care continuity** by bridging communication gaps.\n- Reduces **medication errors** and missed appointments.\n- Improves **patient empowerment** through accessible health advocacy.\n- Frees healthcare providers from administrative burdens related to communication.\n- Enables **timely interventions** for urgent health concerns.\n\n---\n\n**In Summary:**\nCareSync Assistant serves as a personalized healthcare navigator—integrating and automating communication, coordination, and advocacy functions. Its proactive, intelligent approach transforms the patient's experience, making health management more seamless, accurate, and responsive—addressing a core pain point in personalized healthcare systems."
          },
          "metadata": {}
        }
      ]
    }
  ]
}